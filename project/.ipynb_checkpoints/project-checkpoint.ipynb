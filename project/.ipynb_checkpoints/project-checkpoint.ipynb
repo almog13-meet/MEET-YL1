{
 "metadata": {
  "name": ""
 },
 "nbformat": 3,
 "nbformat_minor": 0,
 "worksheets": [
  {
   "cells": [
    {
     "cell_type": "code",
     "collapsed": false,
     "input": [
      "import csv"
     ],
     "language": "python",
     "metadata": {},
     "outputs": [],
     "prompt_number": 2
    },
    {
     "cell_type": "code",
     "collapsed": false,
     "input": [
      "f = open (\"melanoma.csv\", \"rb\")\n",
      "reader = csv.reader(f)\n",
      "index = 0\n",
      "year= []\n",
      "people = []\n",
      "for row in reader:\n",
      "#     print row\n",
      "    \n",
      "    if index != 0:\n",
      "        year.append(row[0])\n",
      "        people.append(row[1])\n",
      "#         print a\n",
      "    index += 1\n",
      "\n",
      "h = map(int, year)\n",
      "g = map(float, people)\n",
      "\n",
      "print h\n",
      "print g\n",
      "    \n",
      "f.close()\n",
      "    "
     ],
     "language": "python",
     "metadata": {},
     "outputs": [
      {
       "output_type": "stream",
       "stream": "stdout",
       "text": [
        "[1936, 1937, 1938, 1939, 1940, 1941, 1942, 1943, 1944, 1945, 1946, 1947, 1948, 1949, 1950, 1951, 1952, 1953, 1954, 1955, 1956, 1957, 1958, 1959, 1960, 1961, 1962, 1963, 1964, 1965, 1966, 1967, 1968, 1969, 1970, 1971, 1972]\n",
        "[0.9, 0.8, 0.8, 1.3, 1.4, 1.2, 1.7, 1.8, 1.6, 1.5, 1.5, 2.0, 2.5, 2.7, 2.9, 2.5, 3.1, 2.4, 2.2, 2.9, 2.5, 2.6, 3.2, 3.8, 4.2, 3.9, 3.7, 3.3, 3.7, 3.9, 4.1, 3.8, 4.7, 4.4, 4.8, 4.8, 4.8]\n"
       ]
      }
     ],
     "prompt_number": 10
    },
    {
     "cell_type": "code",
     "collapsed": false,
     "input": [
      "from pylab import *\n",
      "fig = plt.figure()\n",
      "ax = fig.add_subplot(111)\n",
      "ax.set_title('incidence per year')\n",
      "ax.set_xlabel('year')\n",
      "ax.set_ylabel('incidence')\n",
      "ax.bar(h, g)"
     ],
     "language": "python",
     "metadata": {},
     "outputs": [
      {
       "metadata": {},
       "output_type": "pyout",
       "prompt_number": 13,
       "text": [
        "<Container object of 37 artists>"
       ]
      },
      {
       "metadata": {},
       "output_type": "display_data",
       "png": "[encoded data removed]",
       "text": [
        "<matplotlib.figure.Figure at 0x99f5e0c>"
       ]
      }
     ],
     "prompt_number": 13
    },
    {
     "cell_type": "markdown",
     "metadata": {},
     "source": [
      "This bar shows the increase of melanoma each year from 1935-1975."
     ]
    }
   ],
   "metadata": {}
  }
 ]
}