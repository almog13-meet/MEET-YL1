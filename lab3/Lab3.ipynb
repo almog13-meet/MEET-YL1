{
 "metadata": {
  "name": ""
 },
 "nbformat": 3,
 "nbformat_minor": 0,
 "worksheets": [
  {
   "cells": [
    {
     "cell_type": "code",
     "collapsed": false,
     "input": [
      "import csv"
     ],
     "language": "python",
     "metadata": {},
     "outputs": [],
     "prompt_number": 6
    },
    {
     "cell_type": "code",
     "collapsed": false,
     "input": [
      "f = open ('cig.csv')\n",
      "reader = csv.reader(f)\n",
      "index = 0\n",
      "tar = []\n",
      "nicotine = []\n",
      "for row in reader:\n",
      "    if index != 0:\n",
      "        a=row[0].split()\n",
      "        tar.append(float(a[1]))\n",
      "        nicotine.append(float(a[2]))\n",
      "        print a\n",
      "    index += 1\n",
      "print tar\n",
      "print nicotine\n",
      "    \n",
      "f.close()\n",
      "    "
     ],
     "language": "python",
     "metadata": {},
     "outputs": [
      {
       "output_type": "stream",
       "stream": "stdout",
       "text": [
        "['Benson&Hedges', '16.0', '1.06', '1.0938', '16.6']\n",
        "['BullDurham', '29.8', '2.03', '1.1650', '23.5']\n",
        "['CamelLights', '8.0', '.67', '.9280', '10.2']\n",
        "['Carlton', '4.1', '.40', '.9462', '5.4']\n",
        "['Chesterfield', '15.0', '1.04', '.8885', '15.0']\n",
        "['GoldenLights', '8.8', '.76', '1.0267', '9.0']\n",
        "['Kent', '12.4', '.95', '.9225', '12.3']\n",
        "['Kool', '16.6', '1.12', '.9372', '16.3']\n",
        "['L&M', '14.9', '1.02', '.8858', '15.4']\n",
        "['LarkLights', '13.7', '1.01', '.9643', '13.0']\n",
        "['Marlboro', '15.1', '.90', '.9316', '14.4']\n",
        "['Merit', '7.8', '.57', '.9705', '10.0']\n",
        "['MultiFilter', '11.4', '.78', '1.1240', '10.2']\n",
        "['NewportLights', '9.0', '.74', '.8517', '9.5']\n",
        "['Now', '1.0', '.13', '.7851', '1.5']\n",
        "['OldGold', '17.0', '1.26', '.9186', '18.5']\n",
        "['PallMallLight', '12.8', '1.08', '1.0395', '12.6']\n",
        "['Raleigh', '15.8', '.96', '.9573', '17.5']\n",
        "['SalemUltra', '4.5', '.42', '.9106', '4.9']\n",
        "['Tareyton', '14.5', '1.01', '1.0070', '15.9']\n",
        "['True', '7.3', '.61', '.9806', '8.5']\n",
        "['ViceroyRichLight', '8.6', '.69', '.9693', '10.6']\n",
        "['VirginiaSlims', '15.2', '1.02', '.9496', '13.9']\n",
        "['WinstonLights', '12.0', '.82', '1.1184', '14.9']\n",
        "[16.0, 29.8, 8.0, 4.1, 15.0, 8.8, 12.4, 16.6, 14.9, 13.7, 15.1, 7.8, 11.4, 9.0, 1.0, 17.0, 12.8, 15.8, 4.5, 14.5, 7.3, 8.6, 15.2, 12.0]\n",
        "[1.06, 2.03, 0.67, 0.4, 1.04, 0.76, 0.95, 1.12, 1.02, 1.01, 0.9, 0.57, 0.78, 0.74, 0.13, 1.26, 1.08, 0.96, 0.42, 1.01, 0.61, 0.69, 1.02, 0.82]\n"
       ]
      }
     ],
     "prompt_number": 48
    },
    {
     "cell_type": "code",
     "collapsed": false,
     "input": [
      "from pylab import *"
     ],
     "language": "python",
     "metadata": {},
     "outputs": [],
     "prompt_number": 49
    },
    {
     "cell_type": "code",
     "collapsed": false,
     "input": [
      "fig = plt.figure()\n",
      "ax = fig.add_subplot(111)\n",
      "ax.set_title('tar nicotine')\n",
      "ax.set_xlabel('tar')\n",
      "ax.set_ylabel('nicotine')\n",
      "scatter(tar, nicotine)\n",
      "\n"
     ],
     "language": "python",
     "metadata": {},
     "outputs": [
      {
       "metadata": {},
       "output_type": "pyout",
       "prompt_number": 55,
       "text": [
        "<matplotlib.collections.PathCollection at 0x997b30c>"
       ]
      },
      {
       "metadata": {},
       "output_type": "display_data",
       "png": "[encoded data removed]",
       "text": [
        "<matplotlib.figure.Figure at 0x9f8446c>"
       ]
      }
     ],
     "prompt_number": 55
    },
    {
     "cell_type": "markdown",
     "metadata": {},
     "source": [
      "This graph shows the correlation between the tar and nicotine in different ciggarets."
     ]
    }
   ],
   "metadata": {}
  }
 ]
}